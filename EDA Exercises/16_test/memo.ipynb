{
 "cells": [
  {
   "cell_type": "code",
   "execution_count": null,
   "metadata": {},
   "outputs": [],
   "source": []
  }
 ],
 "metadata": {
  "kernelspec": {
   "display_name": "Python 3",
   "language": "python",
   "name": "python3"
  },
  "language_info": {
   "name": "python",
   "version": "3.10.8"
  },
  "orig_nbformat": 4,
  "vscode": {
   "interpreter": {
    "hash": "17acb4e99982379099fa003d5d1ad39123090e5c7f9bdd8ad5243bf9b2b82e20"
   }
  }
 },
 "nbformat": 4,
 "nbformat_minor": 2
}
