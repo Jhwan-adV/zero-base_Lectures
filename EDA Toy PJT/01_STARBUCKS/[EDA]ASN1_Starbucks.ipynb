{
 "cells": [
  {
   "cell_type": "code",
   "execution_count": 1,
   "metadata": {},
   "outputs": [],
   "source": [
    "# 매장 정보 불러오기 위한 모듈 Import\n",
    "import numpy as np\n",
    "import pandas as pd\n",
    "\n",
    "from selenium import webdriver\n",
    "from selenium.webdriver.common.action_chains import ActionChains\n",
    "from selenium.webdriver.common.by import By\n",
    "from selenium.webdriver.common.keys import Keys\n",
    "\n",
    "from bs4 import BeautifulSoup\n",
    "from urllib.request import Request\n",
    "\n",
    "from tqdm import tqdm_notebook\n",
    "\n",
    "import time"
   ]
  },
  {
   "cell_type": "code",
   "execution_count": null,
   "metadata": {},
   "outputs": [],
   "source": [
    "# 웹 드라이버 구동\n",
    "driver = webdriver.Chrome('chromedriver.exe')\n",
    "driver.get('https://www.starbucks.co.kr/store/store_map.do?disp=locale')"
   ]
  },
  {
   "cell_type": "code",
   "execution_count": 3,
   "metadata": {},
   "outputs": [],
   "source": [
    "# 서울 클릭\n",
    "def SeoulClick():\n",
    "    xpath_seoul = '''//*[@id=\"container\"]/div/form/fieldset/div/section/article[1]/article/article[2]/div[1]/div[2]/ul/li[1]/a'''\n",
    "    driver.find_element(By.XPATH, xpath_seoul).send_keys(Keys.ENTER)\n",
    "\n",
    "# 지역검색 클랙\n",
    "def LocaClick():\n",
    "    xpath_loca = '//*[@id=\"container\"]/div/form/fieldset/div/section/article[1]/article/header[2]/h3/a'\n",
    "    driver.find_element(By.XPATH, xpath_loca).send_keys(Keys.ENTER)\n",
    "\n",
    "SeoulClick()"
   ]
  },
  {
   "cell_type": "code",
   "execution_count": null,
   "metadata": {},
   "outputs": [],
   "source": [
    "# 결과물 DataFrame 틀 만들기\n",
    "def GenerateDataFrame(Area = [], Branch = [], Addr = []):\n",
    "    tmp = (\n",
    "        {'Area': Area,\n",
    "        'Branch' : Branch,\n",
    "        'Address' : Addr,\n",
    "        }\n",
    "    )\n",
    "    return pd.DataFrame(tmp)\n",
    "\n",
    "starbucks = GenerateDataFrame([], [], [])\n",
    "starbucks.head()"
   ]
  },
  {
   "cell_type": "code",
   "execution_count": 5,
   "metadata": {},
   "outputs": [],
   "source": [
    "# 구 내부에서 정보 가져오는 함수\n",
    "\n",
    "def getInfo_gu(Area):\n",
    "    branch = []; addr = []\n",
    "    info = driver.find_elements(By.CLASS_NAME, 'quickResultLstCon')\n",
    "    for i in info:\n",
    "        ActionChains(driver).move_to_element(i).perform()\n",
    "\n",
    "        li = i.text.split('\\n')[:2]\n",
    "        branch.append(li[0])\n",
    "        addr.append(li[1])\n",
    "        \n",
    "    return [branch, addr]"
   ]
  },
  {
   "cell_type": "code",
   "execution_count": null,
   "metadata": {},
   "outputs": [],
   "source": [
    "# Initial empty DataFrame: \"starbucks\"\n",
    "starbucks = GenerateDataFrame([], [], [])\n",
    "\n",
    "# Approaching with area number: 25 area starting from [2] '강남구' to [26] '중랑구'\n",
    "for n in tqdm_notebook(range(2,27)):\n",
    "    gu = driver.find_element(By.XPATH, f'//*[@id=\"mCSB_2_container\"]/ul/li[{n}]/a')\n",
    "    if n >= 23:\n",
    "        ActionChains(driver).move_to_element(gu).perform()\n",
    "    gu_name = gu.text # 클릭 전 구 이름 변수 지정\n",
    "    gu.click() # 구 클릭\n",
    "    time.sleep(1)\n",
    "    \n",
    "    info = getInfo_gu(gu_name)\n",
    "    \n",
    "    starbucks_tmp = GenerateDataFrame([gu_name for i in range(len(info[0]))], info[0], info[1])\n",
    "    starbucks = pd.concat([starbucks, starbucks_tmp])\n",
    "    \n",
    "    # Click the button \"[지역검색]\"\n",
    "    LocaClick()\n",
    "    time.sleep(1)\n",
    "\n",
    "    # Click the button \"[서울]\" \n",
    "    SeoulClick()\n",
    "    time.sleep(1)\n",
    "\n",
    "# 데이터 확인\n",
    "starbucks.head()"
   ]
  },
  {
   "cell_type": "code",
   "execution_count": null,
   "metadata": {},
   "outputs": [],
   "source": [
    "# Checking the DataFrame\n",
    "\n",
    "starbucks.info()"
   ]
  },
  {
   "cell_type": "markdown",
   "metadata": {},
   "source": [
    "총 593개의 자료가 입력됨을 확인. <br>\n",
    "Concat을 활용했기 때문에 index 번호가 정리되지 않았다. <br>\n",
    "reset_index를 활용해 index 정리\n",
    "\n",
    "___"
   ]
  },
  {
   "cell_type": "code",
   "execution_count": null,
   "metadata": {},
   "outputs": [],
   "source": [
    "# Resetting the index\n",
    "starbucks.reset_index(inplace=True)\n",
    "\n",
    "# Remove previous index\n",
    "del starbucks['index']\n",
    "\n",
    "starbucks.info()"
   ]
  },
  {
   "cell_type": "markdown",
   "metadata": {},
   "source": [
    "index가 0에서 592로 잘 지정됨 확인\n",
    "\n",
    "___\n"
   ]
  },
  {
   "cell_type": "code",
   "execution_count": null,
   "metadata": {},
   "outputs": [],
   "source": [
    "# 결측치 확인\n",
    "print(len(starbucks['Area'].isna())) # 구 정보 결측치 개수\n",
    "print(len(starbucks['Branch'].isna())) # 지점 정보 결측치 개수\n",
    "print(len(starbucks['Address'].isna())) # 주소 결측치 개수"
   ]
  },
  {
   "cell_type": "markdown",
   "metadata": {},
   "source": [
    "starbucks.info()에서도 확인할 수 있었지만 (non-null), <br>\n",
    ".isna() 함수를 활용해 한 번 더 추가로 확인. <br>\n",
    "각 열에 결측치가 아닌 개수가 593개로, 결측치 없이 데이터 입력 성공\n",
    "\n",
    "___"
   ]
  },
  {
   "cell_type": "code",
   "execution_count": null,
   "metadata": {},
   "outputs": [],
   "source": [
    "# 구 정보 확인\n",
    "gu_result = starbucks['Area'].unique()\n",
    "print(gu_result, f'\\nLength: {len(gu_result)}')"
   ]
  },
  {
   "cell_type": "markdown",
   "metadata": {},
   "source": [
    "강남구부터 중량구까지 총 25개의 구가 입력된 것 확인\n",
    "\n",
    "___"
   ]
  },
  {
   "cell_type": "code",
   "execution_count": 68,
   "metadata": {},
   "outputs": [],
   "source": [
    "starbucks.to_csv('data/01_starbucks.csv', sep= ',', encoding = 'cp949')"
   ]
  },
  {
   "cell_type": "code",
   "execution_count": 69,
   "metadata": {},
   "outputs": [],
   "source": [
    "driver.close()"
   ]
  }
 ],
 "metadata": {
  "kernelspec": {
   "display_name": "Python 3.10.6 ('DS_study')",
   "language": "python",
   "name": "python3"
  },
  "language_info": {
   "codemirror_mode": {
    "name": "ipython",
    "version": 3
   },
   "file_extension": ".py",
   "mimetype": "text/x-python",
   "name": "python",
   "nbconvert_exporter": "python",
   "pygments_lexer": "ipython3",
   "version": "3.10.6"
  },
  "orig_nbformat": 4,
  "vscode": {
   "interpreter": {
    "hash": "26f195f5c63e09d801d2d1965f195f44c315300594d6769aa40408089b2213f0"
   }
  }
 },
 "nbformat": 4,
 "nbformat_minor": 2
}
