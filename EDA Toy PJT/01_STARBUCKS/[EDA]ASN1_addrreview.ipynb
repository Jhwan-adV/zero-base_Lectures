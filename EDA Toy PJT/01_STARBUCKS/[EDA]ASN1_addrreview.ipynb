{
 "cells": [
  {
   "cell_type": "code",
   "execution_count": 1,
   "metadata": {},
   "outputs": [],
   "source": [
    "import pandas as pd"
   ]
  },
  {
   "cell_type": "code",
   "execution_count": 2,
   "metadata": {},
   "outputs": [],
   "source": [
    "ediya = pd.read_csv('data/02_ediya_geo.csv', encoding='cp949')\n",
    "starbucks = pd.read_csv('data/02_starbucks_geo.csv', encoding='cp949')"
   ]
  },
  {
   "cell_type": "code",
   "execution_count": 14,
   "metadata": {},
   "outputs": [
    {
     "data": {
      "text/plain": [
       "0        서울특별시 강남구 역삼로 310 (역삼동)\n",
       "1     서울특별시 강남구 영동대로96길 12 (삼성동)\n",
       "2       서울특별시 강남구 강남대로 512 (논현동)\n",
       "3       서울특별시 강남구 테헤란로 311 (역삼동)\n",
       "4       서울특별시 강남구 테헤란로 620 (대치동)\n",
       "                 ...            \n",
       "84    서울특별시 강남구 남부순환로 2947 (대치동)\n",
       "85      서울특별시 강남구 테헤란로 125 (역삼동)\n",
       "86      서울특별시 강남구 강남대로 584 (논현동)\n",
       "87      서울특별시 강남구 강남대로 538 (논현동)\n",
       "88       서울특별시 강남구 언주로 425 (역삼동)\n",
       "Name: Address, Length: 89, dtype: object"
      ]
     },
     "execution_count": 14,
     "metadata": {},
     "output_type": "execute_result"
    }
   ],
   "source": [
    "sa = starbucks[starbucks['Area'] == '강남구']['Address']\n",
    "sa\n",
    "\n"
   ]
  },
  {
   "cell_type": "code",
   "execution_count": null,
   "metadata": {},
   "outputs": [],
   "source": [
    "ediya[ediya['Area'] == '강남구']['Address']"
   ]
  },
  {
   "cell_type": "code",
   "execution_count": null,
   "metadata": {},
   "outputs": [],
   "source": []
  }
 ],
 "metadata": {
  "kernelspec": {
   "display_name": "Python 3.10.4 ('DS_study')",
   "language": "python",
   "name": "python3"
  },
  "language_info": {
   "codemirror_mode": {
    "name": "ipython",
    "version": 3
   },
   "file_extension": ".py",
   "mimetype": "text/x-python",
   "name": "python",
   "nbconvert_exporter": "python",
   "pygments_lexer": "ipython3",
   "version": "3.10.4"
  },
  "orig_nbformat": 4,
  "vscode": {
   "interpreter": {
    "hash": "774b93368e8e9ad6ac72417d2b5b506015fa7edd98c78343671c8f5650956006"
   }
  }
 },
 "nbformat": 4,
 "nbformat_minor": 2
}
