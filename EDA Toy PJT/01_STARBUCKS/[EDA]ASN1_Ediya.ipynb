{
 "cells": [
  {
   "cell_type": "code",
   "execution_count": null,
   "metadata": {},
   "outputs": [],
   "source": [
    "import numpy as np\n",
    "import pandas as pd\n",
    "\n",
    "from selenium import webdriver\n",
    "from selenium.webdriver.common.action_chains import ActionChains\n",
    "from selenium.webdriver.common.by import By\n",
    "from selenium.webdriver.common.keys import Keys\n",
    "\n",
    "from bs4 import BeautifulSoup\n",
    "from urllib.request import Request\n",
    "from urllib.request import urlopen\n",
    "\n",
    "from tqdm import tqdm_notebook\n",
    "\n",
    "import time"
   ]
  },
  {
   "cell_type": "code",
   "execution_count": null,
   "metadata": {},
   "outputs": [],
   "source": [
    "driver = webdriver.Chrome('chromedriver.exe')\n",
    "driver.get('https://www.ediya.com/contents/find_store.html#c')\n",
    "\n",
    "# Wait two seconds and click the button \"[주소]\"\n",
    "time.sleep(2)\n",
    "driver.find_element(By.XPATH, '//*[@id=\"contentWrap\"]/div[3]/div/div[1]/ul/li[2]/a').click()"
   ]
  },
  {
   "cell_type": "code",
   "execution_count": null,
   "metadata": {},
   "outputs": [],
   "source": [
    "gu_names = ['강남구','강동구', '강북구', '강서구', '관악구', '광진구', '구로구', '금천구', '노원구', '도봉구', '동대문구', '동작구',\n",
    " '마포구', '서대문구', '서초구', '성동구', '성북구', '송파구', '양천구', '영등포구', '용산구', '은평구', '종로구', '중구',\n",
    " '중랑구'] \n",
    "\n",
    "# list(starbucks['Area'].unique())"
   ]
  },
  {
   "cell_type": "code",
   "execution_count": null,
   "metadata": {},
   "outputs": [],
   "source": [
    "# Variables\n",
    "\n",
    "search_box = driver.find_element(By.XPATH, '//*[@id=\"keyword\"]')\n",
    "search_btn = driver.find_element(By.XPATH, '//*[@id=\"keyword_div\"]/form/button')"
   ]
  },
  {
   "cell_type": "code",
   "execution_count": null,
   "metadata": {},
   "outputs": [],
   "source": [
    "# Function to get detailed (old) address from an overlay box\n",
    "\n",
    "def GetDetailAddr(br):\n",
    "    br.click()\n",
    "    time.sleep(1)\n",
    "\n",
    "    go_details = driver.find_element(By.CLASS_NAME, 'st_info_btn').find_element(By.TAG_NAME, 'img')\n",
    "    go_details.click()\n",
    "    time.sleep(1)\n",
    "\n",
    "    addr_detail = driver.find_element(By.TAG_NAME, 'dd')\n",
    "    target = addr_detail.text\n",
    "    time.sleep(1)\n",
    "\n",
    "    close = driver.find_element(By.CLASS_NAME, 'pop_close').find_element(By.TAG_NAME,'a')\n",
    "    close.click()\n",
    "    time.sleep(1)\n",
    "\n",
    "    return target"
   ]
  },
  {
   "cell_type": "code",
   "execution_count": null,
   "metadata": {},
   "outputs": [],
   "source": [
    "# Function to generate empty dataframe\n",
    "\n",
    "def GenerateDataFrame(Area = [], Branch = [], Addr = []):\n",
    "    tmp = (\n",
    "        {'Area': Area,\n",
    "        'Branch' : Branch,\n",
    "        'Address' : Addr,\n",
    "        }\n",
    "    )\n",
    "    return pd.DataFrame(tmp)\n",
    "\n",
    "ediya = GenerateDataFrame()\n",
    "ediya.head()"
   ]
  },
  {
   "cell_type": "code",
   "execution_count": null,
   "metadata": {},
   "outputs": [],
   "source": [
    "for gu in tqdm_notebook(gu_names): \n",
    "    search_box.clear()\n",
    "    search_box.send_keys('서울 ' + gu) # In case there are multiple cities having the same district name. (ex: 부산 강서구, 인천 중구)\n",
    "    time.sleep(1)\n",
    "\n",
    "    search_btn.click()\n",
    "    time.sleep(1)\n",
    "\n",
    "    places = driver.find_elements(By.CLASS_NAME, 'item')\n",
    "    area = []; branch = []; address = []; \n",
    "    for p in places:\n",
    "        tmp = p.text.split('\\n')\n",
    "        branch.append(tmp[0])\n",
    "\n",
    "        if tmp[1][-1] == '동': # Some branches provide old address in an overlay box. Get information from it.\n",
    "            address.append(GetDetailAddr(p))\n",
    "        else: \n",
    "            address.append(tmp[1])\n",
    "\n",
    "        area = [gu for i in range(len(address))]\n",
    "\n",
    "    ediya_tmp = GenerateDataFrame(area, branch, address)    \n",
    "    ediya = pd.concat([ediya, ediya_tmp])\n",
    "\n",
    "    time.sleep(1)\n",
    "\n",
    "ediya.head()"
   ]
  },
  {
   "cell_type": "code",
   "execution_count": null,
   "metadata": {},
   "outputs": [],
   "source": [
    "ediya.info()"
   ]
  },
  {
   "cell_type": "code",
   "execution_count": null,
   "metadata": {},
   "outputs": [],
   "source": [
    "# ediya.reset_index(inplace=True)\n",
    "ediya.set_index('index', inplace=True)\n",
    "ediya.info()"
   ]
  },
  {
   "cell_type": "code",
   "execution_count": null,
   "metadata": {},
   "outputs": [],
   "source": [
    "ediya.head()"
   ]
  },
  {
   "cell_type": "code",
   "execution_count": null,
   "metadata": {},
   "outputs": [],
   "source": [
    "uniq = ediya['Area'].unique()\n",
    "print(len(uniq), '\\n', uniq)"
   ]
  },
  {
   "cell_type": "code",
   "execution_count": null,
   "metadata": {},
   "outputs": [],
   "source": [
    "ediya.to_csv('data/01_ediya.csv', sep =',', encoding= 'cp949')"
   ]
  },
  {
   "cell_type": "code",
   "execution_count": null,
   "metadata": {},
   "outputs": [],
   "source": [
    "driver.close()"
   ]
  }
 ],
 "metadata": {
  "kernelspec": {
   "display_name": "Python 3.10.6 ('DS_study')",
   "language": "python",
   "name": "python3"
  },
  "language_info": {
   "codemirror_mode": {
    "name": "ipython",
    "version": 3
   },
   "file_extension": ".py",
   "mimetype": "text/x-python",
   "name": "python",
   "nbconvert_exporter": "python",
   "pygments_lexer": "ipython3",
   "version": "3.10.6"
  },
  "orig_nbformat": 4,
  "vscode": {
   "interpreter": {
    "hash": "26f195f5c63e09d801d2d1965f195f44c315300594d6769aa40408089b2213f0"
   }
  }
 },
 "nbformat": 4,
 "nbformat_minor": 2
}
